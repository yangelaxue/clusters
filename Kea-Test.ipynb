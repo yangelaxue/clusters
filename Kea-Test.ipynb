{
 "cells": [
  {
   "cell_type": "code",
   "execution_count": 6,
   "id": "99707cf4-bd31-4dfe-bc75-74f34cbb2b78",
   "metadata": {},
   "outputs": [],
   "source": [
    "import numpy as np\n",
    "import matplotlib.pyplot as plt\n",
    "import os"
   ]
  },
  {
   "cell_type": "code",
   "execution_count": 4,
   "id": "d133b5d3-2e87-4d98-85e2-d46387859e5c",
   "metadata": {},
   "outputs": [],
   "source": [
    "from utils.pluto_utils import PlutoData"
   ]
  },
  {
   "cell_type": "code",
   "execution_count": 28,
   "id": "0490dbe2-852f-4648-98ce-56394ee34d79",
   "metadata": {},
   "outputs": [],
   "source": [
    "import sys\n",
    "sys.path.append(os.path.join(os.getcwd(),'Kea'))\n",
    "from Kea.statistics import statistics_base"
   ]
  },
  {
   "cell_type": "markdown",
   "id": "44e4db0f-8bc7-49e0-be65-6dac24e78c8e",
   "metadata": {},
   "source": [
    "# output_dir"
   ]
  },
  {
   "cell_type": "code",
   "execution_count": 3,
   "id": "60f41914-6d83-41f6-ab45-128cecacb447",
   "metadata": {},
   "outputs": [],
   "source": [
    "output_dir = \"/home/yangelaxue/Documents/VUW/pluto_runs/HD/Blast\""
   ]
  },
  {
   "cell_type": "markdown",
   "id": "1a674558-bbfa-4521-bbe3-6fe182b7fc22",
   "metadata": {},
   "source": [
    "# Load Class"
   ]
  },
  {
   "cell_type": "code",
   "execution_count": 5,
   "id": "e0d4f4dd-675b-431d-974f-41884e7cd0c7",
   "metadata": {},
   "outputs": [
    {
     "data": {
      "text/plain": [
       "{'output_dir': '/home/yangelaxue/Documents/VUW/pluto_runs/HD/Blast',\n",
       " 'ndim': 3,\n",
       " 'Units': <utils.pluto_utils.PlutoUnits at 0x7f7ea8dcc3e0>}"
      ]
     },
     "execution_count": 5,
     "metadata": {},
     "output_type": "execute_result"
    }
   ],
   "source": [
    "data = PlutoData(output_dir)\n",
    "data.__dict__"
   ]
  },
  {
   "cell_type": "markdown",
   "id": "eaa2c069-47bf-4235-b90a-c81b6fef09ae",
   "metadata": {},
   "source": [
    "# Load data"
   ]
  },
  {
   "cell_type": "code",
   "execution_count": 24,
   "id": "27bfd227-18a3-4d04-b206-79f64e113504",
   "metadata": {},
   "outputs": [],
   "source": [
    "units = 'physical'"
   ]
  },
  {
   "cell_type": "code",
   "execution_count": 25,
   "id": "aee72e82-06b1-4256-bf50-d6a95651fe62",
   "metadata": {},
   "outputs": [],
   "source": [
    "if data.ndim==2:\n",
    "    X, Y = data.load_domain_from_HDF5(units=units)\n",
    "elif data.ndim==3:\n",
    "    X, Y, Z = data.load_domain_from_HDF5(units=units)\n",
    "times = data.load_times(units=units)"
   ]
  },
  {
   "cell_type": "code",
   "execution_count": 26,
   "id": "95b57329-371d-4711-886f-fa214c0d6db7",
   "metadata": {},
   "outputs": [
    {
     "data": {
      "text/plain": [
       "array([0.        , 0.01819434, 0.03640434, 0.05924007, 0.07917953,\n",
       "       0.09601723, 0.1163909 , 0.1281299 , 0.1552472 , 0.1708719 ,\n",
       "       0.1880591 , 0.2069651 , 0.2277616 , 0.2506377 , 0.2758015 ,\n",
       "       0.3034816 , 0.3339298 , 0.3674228 , 0.4042651 , 0.4447916 ])"
      ]
     },
     "execution_count": 26,
     "metadata": {},
     "output_type": "execute_result"
    }
   ],
   "source": [
    "times"
   ]
  },
  {
   "cell_type": "code",
   "execution_count": 27,
   "id": "4469d32d-6f06-4c14-9071-09dc15396b48",
   "metadata": {},
   "outputs": [
    {
     "name": "stdout",
     "output_type": "stream",
     "text": [
      "Magnetism is not part of the simulation.\n"
     ]
    }
   ],
   "source": [
    "rho = data.load_data_from_HDF5('rho',units=units)\n",
    "\n",
    "vx1 = data.load_data_from_HDF5('vx1',units=units)\n",
    "vx2 = data.load_data_from_HDF5('vx2',units=units)\n",
    "\n",
    "if data.ndim==2:\n",
    "    v = [(_vx1**2 + _vx2**2)**.5 for _vx1,_vx2 in zip(vx1,vx2)]\n",
    "elif data.ndim>2:\n",
    "    vx3 = data.load_data_from_HDF5('vx3',units=units)\n",
    "    v = [(_vx1**2 + _vx2**2 + _vx3**2)**.5 for _vx1,_vx2,_vx3 in zip(vx1,vx2,vx3)]\n",
    "\n",
    "try:\n",
    "    prs = data.load_data_from_HDF5('prs',units=units)\n",
    "    prs_bool = True\n",
    "except:\n",
    "    prs_bool = False\n",
    "    print(\"Pressure is not part of the simulation.\")\n",
    "\n",
    "try:\n",
    "    Bx1 = data.load_data_from_HDF5('Bx1',units=units)\n",
    "    Bx2 = data.load_data_from_HDF5('Bx2',units=units)\n",
    "    \n",
    "    if data.ndim==2:\n",
    "        B = [(_Bx1**2 + _Bx2**2)**.5 for _Bx1,_Bx2 in zip(Bx1,Bx2)]\n",
    "    elif data.ndim>2:\n",
    "        Bx3 = data.load_data_from_HDF5('Bx3',units='code')\n",
    "        B = [(_Bx1**2 + _Bx2**2 + _Bx3**2)**.5 for _Bx1,_Bx2,_Bx3 in zip(Bx1,Bx2,Bx3)]\n",
    "    B_bool = True\n",
    "except:\n",
    "    B_bool = False\n",
    "    print(\"Magnetism is not part of the simulation.\")"
   ]
  },
  {
   "cell_type": "code",
   "execution_count": null,
   "id": "057d181c-4079-407b-8fa3-01ca6ee527ae",
   "metadata": {},
   "outputs": [],
   "source": []
  },
  {
   "cell_type": "code",
   "execution_count": null,
   "id": "aaf4af43-9783-41be-b8de-3c7750cb8738",
   "metadata": {},
   "outputs": [],
   "source": []
  },
  {
   "cell_type": "code",
   "execution_count": null,
   "id": "3416e380-5b02-4c20-8abe-cab1444ecb95",
   "metadata": {},
   "outputs": [],
   "source": []
  },
  {
   "cell_type": "code",
   "execution_count": null,
   "id": "867435e7-992d-47f7-bfe0-0f20c5c423ba",
   "metadata": {},
   "outputs": [],
   "source": []
  },
  {
   "cell_type": "code",
   "execution_count": null,
   "id": "c9c69224-f871-4cd1-8c7f-646bae502873",
   "metadata": {},
   "outputs": [],
   "source": []
  },
  {
   "cell_type": "code",
   "execution_count": null,
   "id": "66436586-f978-43ec-9884-040d5cddf162",
   "metadata": {},
   "outputs": [],
   "source": []
  },
  {
   "cell_type": "code",
   "execution_count": null,
   "id": "3bad4253-ef59-46ec-9db2-78ae4fc2a2fa",
   "metadata": {},
   "outputs": [],
   "source": []
  },
  {
   "cell_type": "code",
   "execution_count": null,
   "id": "3798aa66-fec5-4fb3-b1c8-42c8d61f8aa2",
   "metadata": {},
   "outputs": [],
   "source": []
  }
 ],
 "metadata": {
  "kernelspec": {
   "display_name": "Python 3 (ipykernel)",
   "language": "python",
   "name": "python3"
  },
  "language_info": {
   "codemirror_mode": {
    "name": "ipython",
    "version": 3
   },
   "file_extension": ".py",
   "mimetype": "text/x-python",
   "name": "python",
   "nbconvert_exporter": "python",
   "pygments_lexer": "ipython3",
   "version": "3.12.3"
  }
 },
 "nbformat": 4,
 "nbformat_minor": 5
}
